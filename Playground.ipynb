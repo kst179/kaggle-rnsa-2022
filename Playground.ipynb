{
 "cells": [
  {
   "cell_type": "code",
   "execution_count": 1,
   "metadata": {},
   "outputs": [],
   "source": [
    "import numpy as np\n",
    "import torch\n",
    "import cv2\n",
    "from matplotlib import pyplot as plt\n",
    "\n",
    "from datasets.segmentation_dataset import SegmentationDataset\n",
    "from models.unet3d import Unet3D\n",
    "from train_segentation import validation\n",
    "from utils.preprocessing import clahe3d, minmax_normalize, rescale, pad16\n",
    "from utils.visualization import visualize\n",
    "from utils.data_loaders import load_dcm_as_rsa_voxel_image\n",
    "from utils.constants import root_dir"
   ]
  },
  {
   "cell_type": "code",
   "execution_count": 12,
   "metadata": {},
   "outputs": [],
   "source": [
    "image, spacings = load_dcm_as_rsa_voxel_image(\"1.2.826.0.1.3680043.21040\")\n",
    "image = minmax_normalize(image)\n",
    "image = rescale(image, spacings, 1, \"trilinear\")\n",
    "image = clahe3d(image, 32, 2, 512)"
   ]
  },
  {
   "cell_type": "code",
   "execution_count": 13,
   "metadata": {},
   "outputs": [],
   "source": [
    "visualize(image)"
   ]
  },
  {
   "cell_type": "code",
   "execution_count": 14,
   "metadata": {},
   "outputs": [],
   "source": [
    "model = Unet3D().eval()\n",
    "state_dict = torch.load(\"weights/segmentation_best_weights.pth\", map_location='cpu')\n",
    "model.load_state_dict(state_dict)\n",
    "\n",
    "def segment(model, image):\n",
    "    w, h, d = image.shape\n",
    "    image = torch.tensor(image).float()\n",
    "    padded_image = pad16(image)\n",
    "    padded_image = padded_image[None, None, ...]\n",
    "\n",
    "    with torch.no_grad():\n",
    "        mask = model(padded_image)\n",
    "\n",
    "    mask = mask.argmax(dim=1)\n",
    "    mask = mask[0, :w, :h, :d].numpy()\n",
    "\n",
    "    return mask\n",
    "\n",
    "mask = segment(model, image)"
   ]
  },
  {
   "cell_type": "code",
   "execution_count": 15,
   "metadata": {},
   "outputs": [],
   "source": [
    "visualize(image, mask)"
   ]
  },
  {
   "cell_type": "code",
   "execution_count": null,
   "metadata": {},
   "outputs": [],
   "source": []
  }
 ],
 "metadata": {
  "kernelspec": {
   "display_name": "Python 3.10.5 64-bit",
   "language": "python",
   "name": "python3"
  },
  "language_info": {
   "codemirror_mode": {
    "name": "ipython",
    "version": 3
   },
   "file_extension": ".py",
   "mimetype": "text/x-python",
   "name": "python",
   "nbconvert_exporter": "python",
   "pygments_lexer": "ipython3",
   "version": "3.10.5"
  },
  "orig_nbformat": 4,
  "vscode": {
   "interpreter": {
    "hash": "e68038ec8b25515970c33b7982caa9399e3c84fee5a7c424dfd06c053cfa5264"
   }
  }
 },
 "nbformat": 4,
 "nbformat_minor": 2
}
